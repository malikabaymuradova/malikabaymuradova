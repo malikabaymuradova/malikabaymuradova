{
 "cells": [
  {
   "cell_type": "code",
   "execution_count": 710,
   "metadata": {},
   "outputs": [],
   "source": [
    "import pandas as pd\n",
    "from datetime import datetime, timedelta"
   ]
  },
  {
   "cell_type": "code",
   "execution_count": 711,
   "metadata": {},
   "outputs": [],
   "source": [
    "dates_columns = ['customer_placed_order_datetime',\n",
    "                 'placed_order_with_restaurant_datetime',\n",
    "                 'driver_at_restaurant_datetime', \n",
    "                 'delivered_to_consumer_datetime']\n",
    "\n",
    "df = pd.read_csv('door_dash_data_datetime_processed.csv', parse_dates=dates_columns)"
   ]
  },
  {
   "cell_type": "code",
   "execution_count": 712,
   "metadata": {},
   "outputs": [
    {
     "name": "stderr",
     "output_type": "stream",
     "text": [
      "<ipython-input-712-bfaf421da799>:3: SettingWithCopyWarning: \n",
      "A value is trying to be set on a copy of a slice from a DataFrame\n",
      "\n",
      "See the caveats in the documentation: https://pandas.pydata.org/pandas-docs/stable/user_guide/indexing.html#returning-a-view-versus-a-copy\n",
      "  df['dasher_delivery_time'][13644] = df['dasher_delivery_time'][13644] + timedelta(days=31)\n",
      "<ipython-input-712-bfaf421da799>:4: SettingWithCopyWarning: \n",
      "A value is trying to be set on a copy of a slice from a DataFrame\n",
      "\n",
      "See the caveats in the documentation: https://pandas.pydata.org/pandas-docs/stable/user_guide/indexing.html#returning-a-view-versus-a-copy\n",
      "  df['dasher_delivery_time'][3601] = df['dasher_delivery_time'][3601] + timedelta(days=31)\n",
      "<ipython-input-712-bfaf421da799>:5: SettingWithCopyWarning: \n",
      "A value is trying to be set on a copy of a slice from a DataFrame\n",
      "\n",
      "See the caveats in the documentation: https://pandas.pydata.org/pandas-docs/stable/user_guide/indexing.html#returning-a-view-versus-a-copy\n",
      "  df['dasher_delivery_time'][3602] = df['dasher_delivery_time'][3602] + timedelta(days=31)\n",
      "<ipython-input-712-bfaf421da799>:6: SettingWithCopyWarning: \n",
      "A value is trying to be set on a copy of a slice from a DataFrame\n",
      "\n",
      "See the caveats in the documentation: https://pandas.pydata.org/pandas-docs/stable/user_guide/indexing.html#returning-a-view-versus-a-copy\n",
      "  df['dasher_delivery_time'][7960] = df['dasher_delivery_time'][7960] + timedelta(days=31)\n",
      "<ipython-input-712-bfaf421da799>:7: SettingWithCopyWarning: \n",
      "A value is trying to be set on a copy of a slice from a DataFrame\n",
      "\n",
      "See the caveats in the documentation: https://pandas.pydata.org/pandas-docs/stable/user_guide/indexing.html#returning-a-view-versus-a-copy\n",
      "  df['dasher_delivery_time'][11340] = df['dasher_delivery_time'][11340] + timedelta(days=31)\n",
      "<ipython-input-712-bfaf421da799>:8: SettingWithCopyWarning: \n",
      "A value is trying to be set on a copy of a slice from a DataFrame\n",
      "\n",
      "See the caveats in the documentation: https://pandas.pydata.org/pandas-docs/stable/user_guide/indexing.html#returning-a-view-versus-a-copy\n",
      "  df['dasher_delivery_time'][13643] = df['dasher_delivery_time'][13643] + timedelta(days=31)\n",
      "<ipython-input-712-bfaf421da799>:9: SettingWithCopyWarning: \n",
      "A value is trying to be set on a copy of a slice from a DataFrame\n",
      "\n",
      "See the caveats in the documentation: https://pandas.pydata.org/pandas-docs/stable/user_guide/indexing.html#returning-a-view-versus-a-copy\n",
      "  df['dasher_delivery_time'][11437] = df['dasher_delivery_time'][11437] + timedelta(days=31)\n"
     ]
    }
   ],
   "source": [
    "df['dasher_delivery_time'] = df['delivered_to_consumer_datetime'] - df['driver_at_restaurant_datetime']\n",
    "\n",
    "df['dasher_delivery_time'][13644] = df['dasher_delivery_time'][13644] + timedelta(days=31)\n",
    "df['dasher_delivery_time'][3601] = df['dasher_delivery_time'][3601] + timedelta(days=31)\n",
    "df['dasher_delivery_time'][3602] = df['dasher_delivery_time'][3602] + timedelta(days=31)\n",
    "df['dasher_delivery_time'][7960] = df['dasher_delivery_time'][7960] + timedelta(days=31)\n",
    "df['dasher_delivery_time'][11340] = df['dasher_delivery_time'][11340] + timedelta(days=31)\n",
    "df['dasher_delivery_time'][13643] = df['dasher_delivery_time'][13643] + timedelta(days=31)\n",
    "df['dasher_delivery_time'][11437] = df['dasher_delivery_time'][11437] + timedelta(days=31)"
   ]
  },
  {
   "cell_type": "code",
   "execution_count": 713,
   "metadata": {},
   "outputs": [
    {
     "name": "stdout",
     "output_type": "stream",
     "text": [
      "Mountain View Average 23.187606992163957\n",
      "Palo Alto Average 24.350073200801358\n",
      "San Jose Average 24.909473103013095\n"
     ]
    },
    {
     "data": {
      "text/html": [
       "<div>\n",
       "<style scoped>\n",
       "    .dataframe tbody tr th:only-of-type {\n",
       "        vertical-align: middle;\n",
       "    }\n",
       "\n",
       "    .dataframe tbody tr th {\n",
       "        vertical-align: top;\n",
       "    }\n",
       "\n",
       "    .dataframe thead th {\n",
       "        text-align: right;\n",
       "    }\n",
       "</style>\n",
       "<table border=\"1\" class=\"dataframe\">\n",
       "  <thead>\n",
       "    <tr style=\"text-align: right;\">\n",
       "      <th></th>\n",
       "      <th>sum</th>\n",
       "      <th>count</th>\n",
       "    </tr>\n",
       "    <tr>\n",
       "      <th>delivery_region</th>\n",
       "      <th></th>\n",
       "      <th></th>\n",
       "    </tr>\n",
       "  </thead>\n",
       "  <tbody>\n",
       "    <tr>\n",
       "      <th>Mountain View</th>\n",
       "      <td>44 days 12:33:44</td>\n",
       "      <td>2765</td>\n",
       "    </tr>\n",
       "    <tr>\n",
       "      <th>None</th>\n",
       "      <td>0 days 09:10:29</td>\n",
       "      <td>17</td>\n",
       "    </tr>\n",
       "    <tr>\n",
       "      <th>Palo Alto</th>\n",
       "      <td>146 days 07:16:50</td>\n",
       "      <td>8652</td>\n",
       "    </tr>\n",
       "    <tr>\n",
       "      <th>San Jose</th>\n",
       "      <td>36 days 13:13:43</td>\n",
       "      <td>2113</td>\n",
       "    </tr>\n",
       "  </tbody>\n",
       "</table>\n",
       "</div>"
      ],
      "text/plain": [
       "                              sum  count\n",
       "delivery_region                         \n",
       "Mountain View    44 days 12:33:44   2765\n",
       "None              0 days 09:10:29     17\n",
       "Palo Alto       146 days 07:16:50   8652\n",
       "San Jose         36 days 13:13:43   2113"
      ]
     },
     "execution_count": 713,
     "metadata": {},
     "output_type": "execute_result"
    }
   ],
   "source": [
    "x = df.groupby('delivery_region')['dasher_delivery_time'].agg(['sum', 'count'])\n",
    "average_in_minutes_for_mountain_view = (x['sum'][0].total_seconds() / x['count'][0]) / 60\n",
    "average_in_minutes_for_palo_alto = (x['sum'][2].total_seconds() / x['count'][2]) / 60\n",
    "average_in_minutes_for_san_jose = (x['sum'][3].total_seconds() / x['count'][3]) / 60\n",
    "print(\"Mountain View Average\", average_in_minutes_for_mountain_view)\n",
    "print(\"Palo Alto Average\", average_in_minutes_for_palo_alto)\n",
    "print(\"San Jose Average\", average_in_minutes_for_san_jose)\n",
    "x"
   ]
  },
  {
   "cell_type": "code",
   "execution_count": 714,
   "metadata": {},
   "outputs": [
    {
     "data": {
      "text/plain": [
       "(18038, 13)"
      ]
     },
     "execution_count": 714,
     "metadata": {},
     "output_type": "execute_result"
    }
   ],
   "source": [
    "mask = df.driver_at_restaurant_datetime.isnull()\n",
    "column_name = 'driver_at_restaurant_datetime'\n",
    "df.loc[mask, column_name] = df['delivered_to_consumer_datetime'] - timedelta(minutes=24)\n",
    "df = df.drop('dasher_delivery_time', 1)\n",
    "df2=df.dropna()\n",
    "df2.shape\n"
   ]
  },
  {
   "cell_type": "code",
   "execution_count": 715,
   "metadata": {},
   "outputs": [],
   "source": [
    "df2.to_csv('door_dash_data_datetime_processed_imputations.csv', index=False)"
   ]
  }
 ],
 "metadata": {
  "interpreter": {
   "hash": "aee8b7b246df8f9039afb4144a1f6fd8d2ca17a180786b69acc140d282b71a49"
  },
  "kernelspec": {
   "display_name": "Python 3.9.4 64-bit",
   "language": "python",
   "name": "python3"
  },
  "language_info": {
   "codemirror_mode": {
    "name": "ipython",
    "version": 3
   },
   "file_extension": ".py",
   "mimetype": "text/x-python",
   "name": "python",
   "nbconvert_exporter": "python",
   "pygments_lexer": "ipython3",
   "version": "3.8.5"
  },
  "orig_nbformat": 4
 },
 "nbformat": 4,
 "nbformat_minor": 2
}
