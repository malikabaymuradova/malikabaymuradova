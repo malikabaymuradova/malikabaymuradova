{
 "cells": [
  {
   "cell_type": "code",
   "execution_count": 244,
   "metadata": {},
   "outputs": [],
   "source": [
    "import pandas as pd\n",
    "import numpy as np"
   ]
  },
  {
   "cell_type": "code",
   "execution_count": 245,
   "metadata": {},
   "outputs": [],
   "source": [
    "col_names = ['customer_placed_order_datetime', \n",
    "            'placed_order_with_restaurant_datetime', \n",
    "            'driver_at_restaurant_datetime', \n",
    "            'delivered_to_consumer_datetime', \n",
    "            'driver_id', \n",
    "            'restaurant_id', \n",
    "            'consumer_id', \n",
    "            'delivery_region', \n",
    "            'is_asap', \n",
    "            'order_total', \n",
    "            'amount_of_discount', \n",
    "            'amount_of_tip', \n",
    "            'refunded_amount']\n",
    "df = pd.read_csv(\"door_dash_data.csv\", header=None, skiprows=1, names=col_names)"
   ]
  },
  {
   "cell_type": "code",
   "execution_count": 246,
   "metadata": {},
   "outputs": [
    {
     "name": "stdout",
     "output_type": "stream",
     "text": [
      "01 02:52:12\n"
     ]
    }
   ],
   "source": [
    "print(df['customer_placed_order_datetime'][0])"
   ]
  },
  {
   "cell_type": "code",
   "execution_count": 247,
   "metadata": {},
   "outputs": [
    {
     "data": {
      "text/plain": [
       "customer_placed_order_datetime           False\n",
       "placed_order_with_restaurant_datetime     True\n",
       "driver_at_restaurant_datetime             True\n",
       "delivered_to_consumer_datetime           False\n",
       "driver_id                                False\n",
       "restaurant_id                            False\n",
       "consumer_id                              False\n",
       "delivery_region                          False\n",
       "is_asap                                  False\n",
       "order_total                              False\n",
       "amount_of_discount                       False\n",
       "amount_of_tip                            False\n",
       "refunded_amount                          False\n",
       "dtype: bool"
      ]
     },
     "execution_count": 247,
     "metadata": {},
     "output_type": "execute_result"
    }
   ],
   "source": [
    "#Shows which columns contain NaN values\n",
    "df.isna().any()"
   ]
  },
  {
   "cell_type": "code",
   "execution_count": 248,
   "metadata": {},
   "outputs": [
    {
     "name": "stdout",
     "output_type": "stream",
     "text": [
      "Number of null values in driver_at_restaurant_datetime: 4531\n",
      "Total number of rows: 18078\n",
      "Percentage of null values in driver_at_restaurant_datetime 25.06361323155216%\n",
      "\n",
      "Number of null values in placed_order_with_restaurant_datetime: 40\n",
      "Total number of rows: 18078\n",
      "Percentage of null values in placed_order_with_restaurant_datetime 0.22126341409447947%\n"
     ]
    }
   ],
   "source": [
    "total_null_values_in_driver_at_restaurant_datetime = df[\"driver_at_restaurant_datetime\"].isnull().sum()\n",
    "total_number_of_rows = df.shape[0]\n",
    "print(\"Number of null values in driver_at_restaurant_datetime:\", \n",
    "total_null_values_in_driver_at_restaurant_datetime)\n",
    "print(\"Total number of rows:\",total_number_of_rows)\n",
    "print(\"Percentage of null values in driver_at_restaurant_datetime\", \n",
    "str((total_null_values_in_driver_at_restaurant_datetime/total_number_of_rows) * 100) + '%')\n",
    "\n",
    "print()\n",
    "\n",
    "total_null_values_in_placed_order_with_restaurant_datetime = df[\"placed_order_with_restaurant_datetime\"].isnull().sum()\n",
    "total_number_of_rows = df.shape[0]\n",
    "print(\"Number of null values in placed_order_with_restaurant_datetime:\", \n",
    "total_null_values_in_placed_order_with_restaurant_datetime)\n",
    "print(\"Total number of rows:\",total_number_of_rows)\n",
    "print(\"Percentage of null values in placed_order_with_restaurant_datetime\", \n",
    "str((total_null_values_in_placed_order_with_restaurant_datetime/total_number_of_rows) * 100) + '%')"
   ]
  },
  {
   "cell_type": "code",
   "execution_count": 249,
   "metadata": {},
   "outputs": [],
   "source": [
    "#idx_cust = df[\"customer_placed_order_datetime\"].index\n",
    "# idx_rest = df[\"placed_order_with_restaurant_datetime\"].index\n",
    "#idx_driver = df[\"driver_at_restaurant_datetime\"].index\n",
    "#idx_delivered = df[\"delivered_to_consumer_datetime\"].index\n",
    "\n",
    "# df.loc[idx_cust, \"customer_placed_order_datetime\"] = \"2017/05/\" + df.loc[idx_cust, \"customer_placed_order_datetime\"]\n",
    "# df.loc[idx_rest, \"Placed order with restaraunt datetime\"] = \"2017/05/\" + df.loc[idx_rest, \"Placed order with restaraunt datetime\"]\n",
    "# #df.loc[idx_driver, \"driver_at_restaraunt_datetime\"] = \"2017/05/\" + df.loc[idx_driver, \"Driver at restaraunt datetime\"]\n",
    "# #df.loc[idx_delivered, \"Delivered to consumer datetime\"] = \"2017/05/\" + df.loc[idx_delivered, \"Delivered to consumer datetime\"]\n",
    "\n",
    "df[\"customer_placed_order_datetime\"] = np.where(df[\"customer_placed_order_datetime\"].notnull(), \"2021-05-\"+df[\"customer_placed_order_datetime\"], df[\"customer_placed_order_datetime\"])\n",
    "df[\"placed_order_with_restaurant_datetime\"] = np.where(df[\"placed_order_with_restaurant_datetime\"].notnull(), \"2021-05-\"+df[\"placed_order_with_restaurant_datetime\"], df[\"placed_order_with_restaurant_datetime\"])\n",
    "df[\"driver_at_restaurant_datetime\"] = np.where(df[\"driver_at_restaurant_datetime\"].notnull(), \"2021-05-\"+df[\"driver_at_restaurant_datetime\"], df[\"driver_at_restaurant_datetime\"])\n",
    "df[\"delivered_to_consumer_datetime\"] = np.where(df[\"delivered_to_consumer_datetime\"].notnull(), \"2021-05-\"+df[\"delivered_to_consumer_datetime\"], df[\"delivered_to_consumer_datetime\"])"
   ]
  },
  {
   "cell_type": "code",
   "execution_count": 250,
   "metadata": {},
   "outputs": [],
   "source": [
    "df.to_csv('door_dash_data_datetime_processed.csv', index=False)"
   ]
  }
 ],
 "metadata": {
  "interpreter": {
   "hash": "40d3a090f54c6569ab1632332b64b2c03c39dcf918b08424e98f38b5ae0af88f"
  },
  "kernelspec": {
   "display_name": "Python 3.8.5 ('base')",
   "language": "python",
   "name": "python3"
  },
  "language_info": {
   "codemirror_mode": {
    "name": "ipython",
    "version": 3
   },
   "file_extension": ".py",
   "mimetype": "text/x-python",
   "name": "python",
   "nbconvert_exporter": "python",
   "pygments_lexer": "ipython3",
   "version": "3.8.5"
  },
  "orig_nbformat": 4
 },
 "nbformat": 4,
 "nbformat_minor": 2
}
